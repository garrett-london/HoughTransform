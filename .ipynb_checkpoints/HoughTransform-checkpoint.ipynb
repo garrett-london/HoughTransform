{
 "cells": [
  {
   "cell_type": "code",
   "execution_count": null,
   "id": "5db689b4",
   "metadata": {},
   "outputs": [],
   "source": [
    "import os\n",
    "import sys\n",
    "import math\n",
    "import cv2 as cv\n",
    "import numpy as np\n",
    "\n",
    "FPOne = \"./images/100px\"\n",
    "FPTwo = \"./images/300px\"\n",
    "\n",
    "sub = [\"\" for x in range(10)]\n",
    "result = [sub for x in range(6)]\n",
    "\n",
    "def htrans(img):\n",
    "    \n",
    "    return 0\n",
    "\n",
    "def run():\n",
    "    for file in os.listdir(FPOne):\n",
    "        path = os.path.join(FPOne, file)\n",
    "        if os.path.isfile(path):\n",
    "            img = cv.imread(path, cv.IMREAD_GRAYSCALE)\n",
    "            if htrans(img) > 0:\n",
    "                \n",
    "    \n",
    "    for file in os.listdir(FPTwo):\n",
    "        path = os.path.join(FPTwo, file)\n",
    "        if os.path.isfile(path):\n",
    "            img = cv.imread(path, cv.IMREAD_GRAYSCALE)\n",
    "            if htrans(img) > 0:\n",
    "                \n",
    "    \n",
    "    return\n",
    "\n",
    "run(sys.argv[1:])\n",
    "for i in best100\n"
   ]
  }
 ],
 "metadata": {
  "kernelspec": {
   "display_name": "Python 3 (ipykernel)",
   "language": "python",
   "name": "python3"
  },
  "language_info": {
   "codemirror_mode": {
    "name": "ipython",
    "version": 3
   },
   "file_extension": ".py",
   "mimetype": "text/x-python",
   "name": "python",
   "nbconvert_exporter": "python",
   "pygments_lexer": "ipython3",
   "version": "3.9.12"
  }
 },
 "nbformat": 4,
 "nbformat_minor": 5
}
